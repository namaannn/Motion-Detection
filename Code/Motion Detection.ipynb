{
 "cells": [
  {
   "cell_type": "code",
   "execution_count": 27,
   "metadata": {},
   "outputs": [],
   "source": [
    "import cv2 as cv\n",
    "import imutils\n",
    "import numpy as np\n",
    "frames=8\n",
    "min_size=100\n",
    "movement=10\n",
    "cap=cv.VideoCapture(5)\n",
    "cap.release()\n",
    "cap=cv.VideoCapture(0)\n",
    "firstf=None\n",
    "secondf=None\n",
    "font=cv.FONT_HERSHEY_COMPLEX\n",
    "delay=0\n",
    "movementc=0\n",
    "while True:\n",
    "    flag=False\n",
    "    ret,frame=cap.read()\n",
    "    text=\"Nobody\"\n",
    "    if not ret:\n",
    "        print(\"error\")\n",
    "        continue\n",
    "    frame=imutils.resize(frame,width=500)\n",
    "    grey=cv.cvtColor(frame,cv.COLOR_BGR2GRAY)\n",
    "    grey=cv.GaussianBlur(grey, (21,21),0)\n",
    "    if firstf is None:\n",
    "        firstf=grey\n",
    "        \n",
    "    delay=delay+1\n",
    "    \n",
    "    if delay>frames:\n",
    "        delay=0\n",
    "        firstf=secondf\n",
    "    secondf=grey\n",
    "    \n",
    "    delta=cv.absdiff(firstf,secondf)\n",
    "    thresh=cv.threshold(delta,25,255,cv.THRESH_BINARY)[1]\n",
    "    thresh=cv.dilate(thresh, None, iterations=5)\n",
    "    cont,_=cv.findContours(thresh.copy(),cv.RETR_EXTERNAL,cv.CHAIN_APPROX_SIMPLE)\n",
    "    for c in cont:\n",
    "        (x,y,w,h)=cv.boundingRect(c)\n",
    "        if cv.contourArea(c)>min_size:\n",
    "            flag=True\n",
    "            cv.rectangle(frame,(x,y),(x+w,y+h),(0,255,0),2)\n",
    "    if flag==True:\n",
    "        m_flag=True\n",
    "        movementc=movement\n",
    "    if movementc>0:\n",
    "        text=\"Movement detected: \"+str(movementc)\n",
    "        movementc=-1\n",
    "    else:\n",
    "        text=\"No movement\"\n",
    "    cv.putText(frame, str(text),(10,30),font,0.75,(255,0,0),2, cv.LINE_AA)\n",
    "    #cv.imshow(\"frame\",frame)\n",
    "    #cv.imshow(\"delta\",delta)\n",
    "    delta=cv.cvtColor(delta,cv.COLOR_GRAY2BGR)\n",
    "    cv.imshow(\"frame\",np.hstack((delta,frame)))\n",
    "    ch=cv.waitKey(1)\n",
    "    if ch & 0xFF ==ord('q'):\n",
    "        break\n",
    "cv.waitKey(0)\n",
    "cv.destroyAllWindows()\n",
    "cap.release()"
   ]
  },
  {
   "cell_type": "code",
   "execution_count": null,
   "metadata": {},
   "outputs": [],
   "source": []
  },
  {
   "cell_type": "code",
   "execution_count": null,
   "metadata": {},
   "outputs": [],
   "source": []
  }
 ],
 "metadata": {
  "kernelspec": {
   "display_name": "Python 3",
   "language": "python",
   "name": "python3"
  },
  "language_info": {
   "codemirror_mode": {
    "name": "ipython",
    "version": 3
   },
   "file_extension": ".py",
   "mimetype": "text/x-python",
   "name": "python",
   "nbconvert_exporter": "python",
   "pygments_lexer": "ipython3",
   "version": "3.8.3"
  }
 },
 "nbformat": 4,
 "nbformat_minor": 4
}
